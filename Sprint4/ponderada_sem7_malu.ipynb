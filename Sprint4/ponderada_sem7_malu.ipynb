{
  "nbformat": 4,
  "nbformat_minor": 0,
  "metadata": {
    "colab": {
      "provenance": []
    },
    "kernelspec": {
      "name": "python3",
      "display_name": "Python 3"
    },
    "language_info": {
      "name": "python"
    }
  },
  "cells": [
    {
      "cell_type": "markdown",
      "source": [
        "# Tratamento de um modelo LSTM com Data Generator"
      ],
      "metadata": {
        "id": "aH8Qp-f_kDbV"
      }
    },
    {
      "cell_type": "markdown",
      "source": [
        "## 1. Preparação do Ambiente"
      ],
      "metadata": {
        "id": "MzFtNdySkKKm"
      }
    },
    {
      "cell_type": "code",
      "source": [
        "import pandas as pd\n",
        "import numpy as np\n",
        "import tensorflow as tf\n",
        "from tensorflow.keras.utils import Sequence\n",
        "from tensorflow.keras.models import Sequential\n",
        "from tensorflow.keras.layers import LSTM, Dense, Dropout\n",
        "from sklearn.preprocessing import MinMaxScaler, OrdinalEncoder\n",
        "from sklearn.model_selection import train_test_split\n",
        "from sklearn.metrics import classification_report, roc_auc_score\n",
        "from sklearn.utils import class_weight\n",
        "import matplotlib.pyplot as plt\n",
        "import gdown"
      ],
      "metadata": {
        "id": "x_9XDA-XgziD"
      },
      "execution_count": 1,
      "outputs": []
    },
    {
      "cell_type": "markdown",
      "source": [
        "# 2. Download do DF\n",
        "\n",
        "Utilizamos o gdown para baixar o dataset diretamente do Google Drive, pedido pelo professor.\n"
      ],
      "metadata": {
        "id": "s2oWgJ7MkPcE"
      }
    },
    {
      "cell_type": "code",
      "source": [
        "file_id = '1R6AerQn0MuaIYyM1mIhIoYPTD3Qt7SOk'\n",
        "output = 'dataset.csv'\n",
        "\n",
        "\n",
        "url = f'https://drive.google.com/uc?id={file_id}'\n",
        "\n",
        "gdown.download(url, output, quiet=False)"
      ],
      "metadata": {
        "colab": {
          "base_uri": "https://localhost:8080/",
          "height": 125
        },
        "id": "KFg2wFPnvqJc",
        "outputId": "524ad2f6-189f-4f5b-d5fc-f25528c567cb"
      },
      "execution_count": 2,
      "outputs": [
        {
          "output_type": "stream",
          "name": "stderr",
          "text": [
            "Downloading...\n",
            "From (original): https://drive.google.com/uc?id=1R6AerQn0MuaIYyM1mIhIoYPTD3Qt7SOk\n",
            "From (redirected): https://drive.google.com/uc?id=1R6AerQn0MuaIYyM1mIhIoYPTD3Qt7SOk&confirm=t&uuid=1757723a-00ca-46db-822d-b9960710f58b\n",
            "To: /content/dataset.csv\n",
            "100%|██████████| 683M/683M [00:12<00:00, 53.6MB/s]\n"
          ]
        },
        {
          "output_type": "execute_result",
          "data": {
            "text/plain": [
              "'dataset.csv'"
            ],
            "application/vnd.google.colaboratory.intrinsic+json": {
              "type": "string"
            }
          },
          "metadata": {},
          "execution_count": 2
        }
      ]
    },
    {
      "cell_type": "markdown",
      "source": [
        "# 3. Redução do Tamanho do Dataset\n",
        "\n",
        "Para tornar o processo de treinamento mais rápido e manejável durante a fase de desenvolvimento, reduzi o tamanho do dataset, utilizando apenas uma fração dos dados originais (por exemplo, 10%)"
      ],
      "metadata": {
        "id": "0Rm02lnBkoVz"
      }
    },
    {
      "cell_type": "code",
      "source": [
        "sample_fraction = 0.1\n",
        "\n",
        "# Obter o número total de linhas no arquivo\n",
        "total_rows = sum(1 for line in open('dataset.csv')) - 1\n",
        "\n",
        "# Calcular o número de linhas a serem lidas\n",
        "sample_rows = int(total_rows * sample_fraction)"
      ],
      "metadata": {
        "id": "OUPL3FgydRKa"
      },
      "execution_count": 3,
      "outputs": []
    },
    {
      "cell_type": "markdown",
      "source": [
        "# 4. Leitura e Pré-processamento da Amostra\n",
        "\n",
        "Nesta etapa, é feita a leitura da amostra definida do dataset e inferi os tipos de dados de cada coluna. Também otimizei esses tipos para tipos mais leves, como int32 em vez de int64, para reduzir o uso de memória. Isso foi feito dado que o dataset é enorme e o Colab não estava suportando.\n",
        "\n"
      ],
      "metadata": {
        "id": "9sDK6PXbk_hF"
      }
    },
    {
      "cell_type": "code",
      "source": [
        "# amostra\n",
        "sample_df = pd.read_csv('dataset.csv', nrows=sample_rows)\n",
        "\n",
        "# obter os tipos de dados\n",
        "dtypes_dict = sample_df.dtypes.apply(lambda x: x.name).to_dict()\n",
        "optimized_dtypes = {}\n",
        "for col, dtype in dtypes_dict.items():\n",
        "    if dtype == 'int64':\n",
        "        optimized_dtypes[col] = 'int32'\n",
        "    elif dtype == 'float64':\n",
        "        optimized_dtypes[col] = 'float32'\n",
        "    elif dtype == 'object':\n",
        "        optimized_dtypes[col] = 'object'\n",
        "    else:\n",
        "        optimized_dtypes[col] = dtype"
      ],
      "metadata": {
        "id": "cq4Xmz-ufkAj"
      },
      "execution_count": 4,
      "outputs": []
    },
    {
      "cell_type": "markdown",
      "source": [
        "# 5. Preparação dos Encoders e Scalers\n",
        "\n",
        "Identifiquei as colunas com mais de 10% de dados nulos (dado que eram 500 mil linhas) e as removi para simplificar o modelo. Em seguida, classifiquei as colunas restantes em numéricas e categóricas, preenchendo valores ausentes com valores padrão adequados (-999 para numéricas e ‘missing’ para categóricas). Ajustei os encoders para as variáveis categóricas usando OrdinalEncoder e  as variáveis numéricas usando MinMaxScaler.\n"
      ],
      "metadata": {
        "id": "5l5qB-2OlU8J"
      }
    },
    {
      "cell_type": "code",
      "source": [
        "# porcentagem dos valores nulos\n",
        "missing_percentages = sample_df.isnull().mean() * 100\n",
        "\n",
        "cols_to_drop = missing_percentages[missing_percentages > 10].index.tolist()\n",
        "print(f\"Colunas a serem excluídas devido a mais de 10% de dados nulos: {cols_to_drop}\")\n",
        "\n",
        "sample_df = sample_df.drop(cols_to_drop, axis=1)"
      ],
      "metadata": {
        "colab": {
          "base_uri": "https://localhost:8080/"
        },
        "id": "KhQnurK6flP-",
        "outputId": "90e9968c-4253-496d-dcdb-9c71ab23c0a6"
      },
      "execution_count": 5,
      "outputs": [
        {
          "output_type": "stream",
          "name": "stdout",
          "text": [
            "Colunas a serem excluídas devido a mais de 10% de dados nulos: ['dist1', 'dist2', 'P_emaildomain', 'R_emaildomain', 'D2', 'D3', 'D4', 'D5', 'D6', 'D7', 'D8', 'D9', 'D10', 'D11', 'D12', 'D13', 'D14', 'D15', 'M1', 'M2', 'M3', 'M4', 'M5', 'M6', 'M7', 'M8', 'M9', 'V1', 'V2', 'V3', 'V4', 'V5', 'V6', 'V7', 'V8', 'V9', 'V10', 'V11', 'V12', 'V13', 'V14', 'V15', 'V16', 'V17', 'V18', 'V19', 'V20', 'V21', 'V22', 'V23', 'V24', 'V25', 'V26', 'V27', 'V28', 'V29', 'V30', 'V31', 'V32', 'V33', 'V34', 'V35', 'V36', 'V37', 'V38', 'V39', 'V40', 'V41', 'V42', 'V43', 'V44', 'V45', 'V46', 'V47', 'V48', 'V49', 'V50', 'V51', 'V52', 'V53', 'V54', 'V55', 'V56', 'V57', 'V58', 'V59', 'V60', 'V61', 'V62', 'V63', 'V64', 'V65', 'V66', 'V67', 'V68', 'V69', 'V70', 'V71', 'V72', 'V73', 'V74', 'V75', 'V76', 'V77', 'V78', 'V79', 'V80', 'V81', 'V82', 'V83', 'V84', 'V85', 'V86', 'V87', 'V88', 'V89', 'V90', 'V91', 'V92', 'V93', 'V94', 'V138', 'V139', 'V140', 'V141', 'V142', 'V143', 'V144', 'V145', 'V146', 'V147', 'V148', 'V149', 'V150', 'V151', 'V152', 'V153', 'V154', 'V155', 'V156', 'V157', 'V158', 'V159', 'V160', 'V161', 'V162', 'V163', 'V164', 'V165', 'V166', 'V167', 'V168', 'V169', 'V170', 'V171', 'V172', 'V173', 'V174', 'V175', 'V176', 'V177', 'V178', 'V179', 'V180', 'V181', 'V182', 'V183', 'V184', 'V185', 'V186', 'V187', 'V188', 'V189', 'V190', 'V191', 'V192', 'V193', 'V194', 'V195', 'V196', 'V197', 'V198', 'V199', 'V200', 'V201', 'V202', 'V203', 'V204', 'V205', 'V206', 'V207', 'V208', 'V209', 'V210', 'V211', 'V212', 'V213', 'V214', 'V215', 'V216', 'V217', 'V218', 'V219', 'V220', 'V221', 'V222', 'V223', 'V224', 'V225', 'V226', 'V227', 'V228', 'V229', 'V230', 'V231', 'V232', 'V233', 'V234', 'V235', 'V236', 'V237', 'V238', 'V239', 'V240', 'V241', 'V242', 'V243', 'V244', 'V245', 'V246', 'V247', 'V248', 'V249', 'V250', 'V251', 'V252', 'V253', 'V254', 'V255', 'V256', 'V257', 'V258', 'V259', 'V260', 'V261', 'V262', 'V263', 'V264', 'V265', 'V266', 'V267', 'V268', 'V269', 'V270', 'V271', 'V272', 'V273', 'V274', 'V275', 'V276', 'V277', 'V278', 'V322', 'V323', 'V324', 'V325', 'V326', 'V327', 'V328', 'V329', 'V330', 'V331', 'V332', 'V333', 'V334', 'V335', 'V336', 'V337', 'V338', 'V339']\n"
          ]
        }
      ]
    },
    {
      "cell_type": "code",
      "source": [
        "target_col = 'isFraud'\n",
        "\n",
        "num_cols = sample_df.select_dtypes(include=['int32', 'int64', 'float32', 'float64']).columns.drop(target_col, errors='ignore')\n",
        "cat_cols = sample_df.select_dtypes(include=['object']).columns\n",
        "\n",
        "print(f\"Colunas numéricas: {list(num_cols)}\")\n",
        "print(f\"Colunas categóricas: {list(cat_cols)}\")\n",
        "\n",
        "# valores ausentes em colunas numéricas\n",
        "sample_df[num_cols] = sample_df[num_cols].fillna(-999)\n",
        "\n",
        "# valores ausentes em colunas categóricas\n",
        "sample_df[cat_cols] = sample_df[cat_cols].fillna('missing')\n",
        "\n",
        "# encoders para as categóricas\n",
        "ordinal_encoders = {}\n",
        "\n",
        "for col in cat_cols:\n",
        "    oe = OrdinalEncoder(handle_unknown='use_encoded_value', unknown_value=-1)\n",
        "    sample_df[[col]] = oe.fit_transform(sample_df[[col]].astype(str))\n",
        "    ordinal_encoders[col] = oe\n",
        "\n",
        "# scalers para as numéricas\n",
        "scaler = MinMaxScaler()\n",
        "sample_df[num_cols] = scaler.fit_transform(sample_df[num_cols])"
      ],
      "metadata": {
        "colab": {
          "base_uri": "https://localhost:8080/"
        },
        "id": "73oBVCHCwpQx",
        "outputId": "a88c0af9-aeb8-4378-c10f-ea8c8b319ab2"
      },
      "execution_count": 6,
      "outputs": [
        {
          "output_type": "stream",
          "name": "stdout",
          "text": [
            "Colunas numéricas: ['TransactionID', 'TransactionDT', 'TransactionAmt', 'card1', 'card2', 'card3', 'card5', 'addr1', 'addr2', 'C1', 'C2', 'C3', 'C4', 'C5', 'C6', 'C7', 'C8', 'C9', 'C10', 'C11', 'C12', 'C13', 'C14', 'D1', 'V95', 'V96', 'V97', 'V98', 'V99', 'V100', 'V101', 'V102', 'V103', 'V104', 'V105', 'V106', 'V107', 'V108', 'V109', 'V110', 'V111', 'V112', 'V113', 'V114', 'V115', 'V116', 'V117', 'V118', 'V119', 'V120', 'V121', 'V122', 'V123', 'V124', 'V125', 'V126', 'V127', 'V128', 'V129', 'V130', 'V131', 'V132', 'V133', 'V134', 'V135', 'V136', 'V137', 'V279', 'V280', 'V281', 'V282', 'V283', 'V284', 'V285', 'V286', 'V287', 'V288', 'V289', 'V290', 'V291', 'V292', 'V293', 'V294', 'V295', 'V296', 'V297', 'V298', 'V299', 'V300', 'V301', 'V302', 'V303', 'V304', 'V305', 'V306', 'V307', 'V308', 'V309', 'V310', 'V311', 'V312', 'V313', 'V314', 'V315', 'V316', 'V317', 'V318', 'V319', 'V320', 'V321']\n",
            "Colunas categóricas: ['ProductCD', 'card4', 'card6']\n"
          ]
        }
      ]
    },
    {
      "cell_type": "markdown",
      "source": [
        "# 6. Definição dos Geradores de Dados\n",
        "\n",
        "Dividi os índices das amostras em conjuntos de treinamento e validação usando train_test_split."
      ],
      "metadata": {
        "id": "7hJiJhMMmHd4"
      }
    },
    {
      "cell_type": "code",
      "source": [
        "# treinamento e validação\n",
        "sequence_length = 10\n",
        "indexes = np.arange(sequence_length, sample_rows)\n",
        "\n",
        "# divisão em treinamento e validação\n",
        "train_indexes, val_indexes = train_test_split(\n",
        "    indexes, test_size=0.2, random_state=42\n",
        ")"
      ],
      "metadata": {
        "id": "nj_9d38Dl7WS"
      },
      "execution_count": 7,
      "outputs": []
    },
    {
      "cell_type": "markdown",
      "source": [
        "# 7. Implementação do DataGenerator\n",
        "\n",
        "Classe personalizada DataGenerator que herda de Sequence, permitindo a geração de batches de dados sob demanda durante o treinamento.\n"
      ],
      "metadata": {
        "id": "8v0lInVVmhzM"
      }
    },
    {
      "cell_type": "code",
      "source": [
        "class DataGenerator(Sequence):\n",
        "    def __init__(self, file_path, batch_size, sequence_length, num_features, target_col, dtypes, ordinal_encoders, scaler, indexes, cols_to_drop, total_rows):\n",
        "        self.file_path = file_path\n",
        "        self.batch_size = batch_size\n",
        "        self.sequence_length = sequence_length\n",
        "        self.num_features = num_features\n",
        "        self.target_col = target_col\n",
        "        self.dtypes = dtypes\n",
        "        self.ordinal_encoders = ordinal_encoders\n",
        "        self.scaler = scaler\n",
        "        self.indexes = indexes\n",
        "        self.cols_to_drop = cols_to_drop\n",
        "        self.total_rows = total_rows\n",
        "\n",
        "    def __len__(self):\n",
        "        return int(np.ceil(len(self.indexes) / self.batch_size))\n",
        "\n",
        "    def __getitem__(self, idx):\n",
        "        start_idx = idx * self.batch_size\n",
        "        end_idx = min((idx + 1) * self.batch_size, len(self.indexes))\n",
        "        batch_indexes = self.indexes[start_idx:end_idx]\n",
        "\n",
        "        if len(batch_indexes) == 0:\n",
        "            raise IndexError(f'Index {idx} out of range for DataGenerator with length {self.__len__()}')\n",
        "\n",
        "        batch_indexes = np.sort(batch_indexes)\n",
        "\n",
        "        start_row = max(0, batch_indexes[0] - self.sequence_length)\n",
        "        end_row = batch_indexes[-1] + self.sequence_length + 1  # +1 porque read_csv é exclusivo no end_row\n",
        "\n",
        "        end_row = min(end_row, self.total_rows)\n",
        "\n",
        "        nrows = end_row - start_row\n",
        "\n",
        "        if nrows <= 0:\n",
        "            raise ValueError(f'Invalid nrows ({nrows}) computed for batch {idx}. start_row: {start_row}, end_row: {end_row}')\n",
        "\n",
        "        # Ler o chunk necessário\n",
        "        data_chunk = pd.read_csv(\n",
        "            self.file_path,\n",
        "            skiprows=range(1, start_row + 1),\n",
        "            nrows=nrows,\n",
        "            dtype=self.dtypes\n",
        "        )\n",
        "\n",
        "        # Remover as colunas a serem excluídas\n",
        "        data_chunk = data_chunk.drop(self.cols_to_drop, axis=1)\n",
        "\n",
        "        data_chunk = self._preprocess_data(data_chunk)\n",
        "\n",
        "        sequences = []\n",
        "        labels = []\n",
        "        for idx_in_batch, idx_original in enumerate(batch_indexes):\n",
        "            seq_start = idx_original - start_row - self.sequence_length\n",
        "            seq_end = idx_original - start_row\n",
        "            if seq_start < 0 or seq_end >= len(data_chunk):\n",
        "                continue\n",
        "            seq = data_chunk.iloc[seq_start:seq_end].drop(self.target_col, axis=1).values\n",
        "            lbl = data_chunk.iloc[seq_end][self.target_col]\n",
        "            sequences.append(seq)\n",
        "            labels.append(lbl)\n",
        "\n",
        "        X = np.array(sequences)\n",
        "        y = np.array(labels)\n",
        "\n",
        "        return X, y\n",
        "\n",
        "    def _preprocess_data(self, df):\n",
        "        num_cols = df.select_dtypes(include=['int32', 'int64', 'float32', 'float64']).columns.drop(self.target_col, errors='ignore')\n",
        "        cat_cols = df.select_dtypes(include=['object']).columns\n",
        "\n",
        "        df[num_cols] = df[num_cols].fillna(-999)\n",
        "        df[cat_cols] = df[cat_cols].fillna('missing')\n",
        "\n",
        "        for col in cat_cols:\n",
        "            oe = self.ordinal_encoders[col]\n",
        "            df[[col]] = oe.transform(df[[col]].astype(str))\n",
        "\n",
        "        df[num_cols] = self.scaler.transform(df[num_cols])\n",
        "\n",
        "        return df\n"
      ],
      "metadata": {
        "id": "tWhxfs_umj2m"
      },
      "execution_count": 8,
      "outputs": []
    },
    {
      "cell_type": "markdown",
      "source": [
        "# 8. DataGenerator + Treino e Validação\n",
        "\n",
        "Instacia dois objetos DataGenerator, um para treinamento e outro para validação, passando todos os parâmetros necessários, incluindo os encoders, scalers e o número total de linhas da amostra."
      ],
      "metadata": {
        "id": "JUS9h5dmm5rc"
      }
    },
    {
      "cell_type": "code",
      "source": [
        "batch_size = 64\n",
        "num_features = len(sample_df.columns) - 1  # Excluindo a coluna alvo\n",
        "\n",
        "train_generator = DataGenerator(\n",
        "    file_path='dataset.csv',\n",
        "    batch_size=batch_size,\n",
        "    sequence_length=sequence_length,\n",
        "    num_features=num_features,\n",
        "    target_col=target_col,\n",
        "    dtypes=optimized_dtypes,\n",
        "    ordinal_encoders=ordinal_encoders,\n",
        "    scaler=scaler,\n",
        "    indexes=train_indexes,\n",
        "    cols_to_drop=cols_to_drop,\n",
        "    total_rows=sample_rows\n",
        ")\n",
        "\n",
        "val_generator = DataGenerator(\n",
        "    file_path='dataset.csv',\n",
        "    batch_size=batch_size,\n",
        "    sequence_length=sequence_length,\n",
        "    num_features=num_features,\n",
        "    target_col=target_col,\n",
        "    dtypes=optimized_dtypes,\n",
        "    ordinal_encoders=ordinal_encoders,\n",
        "    scaler=scaler,\n",
        "    indexes=val_indexes,\n",
        "    cols_to_drop=cols_to_drop,\n",
        "    total_rows=sample_rows\n",
        ")"
      ],
      "metadata": {
        "id": "jOi1ZPmr5cY2"
      },
      "execution_count": 9,
      "outputs": []
    },
    {
      "cell_type": "markdown",
      "source": [
        "# 9. Definição e Compilação do Modelo LSTM\n",
        "\n",
        "Defini um modelo LSTM simples utilizando a API sequencial do Keras, com uma camada LSTM seguida de uma camada densa com função de ativação sigmoide para classificação binária. (LEMBRAR que o Colab tem limitação de RAM, por isso escolhi o mais simples possívell)"
      ],
      "metadata": {
        "id": "VEcIGmTAnHDY"
      }
    },
    {
      "cell_type": "code",
      "source": [
        "model = Sequential()\n",
        "model.add(LSTM(32, input_shape=(sequence_length, num_features)))\n",
        "model.add(Dense(1, activation='sigmoid'))\n",
        "\n",
        "model.compile(loss='binary_crossentropy', optimizer='adam', metrics=['accuracy'])\n",
        "model.summary()"
      ],
      "metadata": {
        "colab": {
          "base_uri": "https://localhost:8080/",
          "height": 254
        },
        "id": "3DZ5dVKqyiG9",
        "outputId": "345d45ba-9a18-4603-bf30-d47854f74eec"
      },
      "execution_count": 10,
      "outputs": [
        {
          "output_type": "stream",
          "name": "stderr",
          "text": [
            "/usr/local/lib/python3.10/dist-packages/keras/src/layers/rnn/rnn.py:204: UserWarning: Do not pass an `input_shape`/`input_dim` argument to a layer. When using Sequential models, prefer using an `Input(shape)` object as the first layer in the model instead.\n",
            "  super().__init__(**kwargs)\n"
          ]
        },
        {
          "output_type": "display_data",
          "data": {
            "text/plain": [
              "\u001b[1mModel: \"sequential\"\u001b[0m\n"
            ],
            "text/html": [
              "<pre style=\"white-space:pre;overflow-x:auto;line-height:normal;font-family:Menlo,'DejaVu Sans Mono',consolas,'Courier New',monospace\"><span style=\"font-weight: bold\">Model: \"sequential\"</span>\n",
              "</pre>\n"
            ]
          },
          "metadata": {}
        },
        {
          "output_type": "display_data",
          "data": {
            "text/plain": [
              "┏━━━━━━━━━━━━━━━━━━━━━━━━━━━━━━━━━━━━━━┳━━━━━━━━━━━━━━━━━━━━━━━━━━━━━┳━━━━━━━━━━━━━━━━━┓\n",
              "┃\u001b[1m \u001b[0m\u001b[1mLayer (type)                        \u001b[0m\u001b[1m \u001b[0m┃\u001b[1m \u001b[0m\u001b[1mOutput Shape               \u001b[0m\u001b[1m \u001b[0m┃\u001b[1m \u001b[0m\u001b[1m        Param #\u001b[0m\u001b[1m \u001b[0m┃\n",
              "┡━━━━━━━━━━━━━━━━━━━━━━━━━━━━━━━━━━━━━━╇━━━━━━━━━━━━━━━━━━━━━━━━━━━━━╇━━━━━━━━━━━━━━━━━┩\n",
              "│ lstm (\u001b[38;5;33mLSTM\u001b[0m)                          │ (\u001b[38;5;45mNone\u001b[0m, \u001b[38;5;34m32\u001b[0m)                  │          \u001b[38;5;34m18,688\u001b[0m │\n",
              "├──────────────────────────────────────┼─────────────────────────────┼─────────────────┤\n",
              "│ dense (\u001b[38;5;33mDense\u001b[0m)                        │ (\u001b[38;5;45mNone\u001b[0m, \u001b[38;5;34m1\u001b[0m)                   │              \u001b[38;5;34m33\u001b[0m │\n",
              "└──────────────────────────────────────┴─────────────────────────────┴─────────────────┘\n"
            ],
            "text/html": [
              "<pre style=\"white-space:pre;overflow-x:auto;line-height:normal;font-family:Menlo,'DejaVu Sans Mono',consolas,'Courier New',monospace\">┏━━━━━━━━━━━━━━━━━━━━━━━━━━━━━━━━━━━━━━┳━━━━━━━━━━━━━━━━━━━━━━━━━━━━━┳━━━━━━━━━━━━━━━━━┓\n",
              "┃<span style=\"font-weight: bold\"> Layer (type)                         </span>┃<span style=\"font-weight: bold\"> Output Shape                </span>┃<span style=\"font-weight: bold\">         Param # </span>┃\n",
              "┡━━━━━━━━━━━━━━━━━━━━━━━━━━━━━━━━━━━━━━╇━━━━━━━━━━━━━━━━━━━━━━━━━━━━━╇━━━━━━━━━━━━━━━━━┩\n",
              "│ lstm (<span style=\"color: #0087ff; text-decoration-color: #0087ff\">LSTM</span>)                          │ (<span style=\"color: #00d7ff; text-decoration-color: #00d7ff\">None</span>, <span style=\"color: #00af00; text-decoration-color: #00af00\">32</span>)                  │          <span style=\"color: #00af00; text-decoration-color: #00af00\">18,688</span> │\n",
              "├──────────────────────────────────────┼─────────────────────────────┼─────────────────┤\n",
              "│ dense (<span style=\"color: #0087ff; text-decoration-color: #0087ff\">Dense</span>)                        │ (<span style=\"color: #00d7ff; text-decoration-color: #00d7ff\">None</span>, <span style=\"color: #00af00; text-decoration-color: #00af00\">1</span>)                   │              <span style=\"color: #00af00; text-decoration-color: #00af00\">33</span> │\n",
              "└──────────────────────────────────────┴─────────────────────────────┴─────────────────┘\n",
              "</pre>\n"
            ]
          },
          "metadata": {}
        },
        {
          "output_type": "display_data",
          "data": {
            "text/plain": [
              "\u001b[1m Total params: \u001b[0m\u001b[38;5;34m18,721\u001b[0m (73.13 KB)\n"
            ],
            "text/html": [
              "<pre style=\"white-space:pre;overflow-x:auto;line-height:normal;font-family:Menlo,'DejaVu Sans Mono',consolas,'Courier New',monospace\"><span style=\"font-weight: bold\"> Total params: </span><span style=\"color: #00af00; text-decoration-color: #00af00\">18,721</span> (73.13 KB)\n",
              "</pre>\n"
            ]
          },
          "metadata": {}
        },
        {
          "output_type": "display_data",
          "data": {
            "text/plain": [
              "\u001b[1m Trainable params: \u001b[0m\u001b[38;5;34m18,721\u001b[0m (73.13 KB)\n"
            ],
            "text/html": [
              "<pre style=\"white-space:pre;overflow-x:auto;line-height:normal;font-family:Menlo,'DejaVu Sans Mono',consolas,'Courier New',monospace\"><span style=\"font-weight: bold\"> Trainable params: </span><span style=\"color: #00af00; text-decoration-color: #00af00\">18,721</span> (73.13 KB)\n",
              "</pre>\n"
            ]
          },
          "metadata": {}
        },
        {
          "output_type": "display_data",
          "data": {
            "text/plain": [
              "\u001b[1m Non-trainable params: \u001b[0m\u001b[38;5;34m0\u001b[0m (0.00 B)\n"
            ],
            "text/html": [
              "<pre style=\"white-space:pre;overflow-x:auto;line-height:normal;font-family:Menlo,'DejaVu Sans Mono',consolas,'Courier New',monospace\"><span style=\"font-weight: bold\"> Non-trainable params: </span><span style=\"color: #00af00; text-decoration-color: #00af00\">0</span> (0.00 B)\n",
              "</pre>\n"
            ]
          },
          "metadata": {}
        }
      ]
    },
    {
      "cell_type": "markdown",
      "source": [
        "# 10. Cálculo dos Pesos de Classe\n",
        "\n",
        "Calcula os pesos de classe usando a função compute_class_weight do sklearn para lidar com possíveis desbalanceamentos na variável alvo, isso para que, durante o treinamento, penalize mais as classes minoritárias, ajudando o modelo a aprender.\n"
      ],
      "metadata": {
        "id": "6a3HrVB4nUAK"
      }
    },
    {
      "cell_type": "code",
      "source": [
        "y_sample = sample_df[target_col].values\n",
        "class_weights = class_weight.compute_class_weight(\n",
        "    class_weight='balanced',\n",
        "    classes=np.unique(y_sample),\n",
        "    y=y_sample\n",
        ")\n",
        "class_weights = dict(enumerate(class_weights))"
      ],
      "metadata": {
        "id": "E6vzVsA1y6Us"
      },
      "execution_count": 11,
      "outputs": []
    },
    {
      "cell_type": "markdown",
      "source": [
        "# 11. Treinamento do Modelo\n",
        "\n",
        "Treino do modelo utilizando o método fit do Keras, passando o train_generator como fonte de dados. Número de épocas reduzido por conta da RAM e da demora para rodar.\n"
      ],
      "metadata": {
        "id": "l8LXZU5cnik0"
      }
    },
    {
      "cell_type": "code",
      "source": [
        "history = model.fit(\n",
        "    train_generator,\n",
        "    epochs=2,  # Reduzido para 2 épocas\n",
        "    validation_data=val_generator,\n",
        "    class_weight=class_weights\n",
        ")"
      ],
      "metadata": {
        "colab": {
          "base_uri": "https://localhost:8080/"
        },
        "id": "7z_NercGy8vN",
        "outputId": "9fd91a70-a10b-4473-bcfb-fc1766926071"
      },
      "execution_count": 12,
      "outputs": [
        {
          "metadata": {
            "tags": null
          },
          "name": "stdout",
          "output_type": "stream",
          "text": [
            "Epoch 1/2\n"
          ]
        },
        {
          "metadata": {
            "tags": null
          },
          "name": "stderr",
          "output_type": "stream",
          "text": [
            "/usr/local/lib/python3.10/dist-packages/keras/src/trainers/data_adapters/py_dataset_adapter.py:121: UserWarning: Your `PyDataset` class should call `super().__init__(**kwargs)` in its constructor. `**kwargs` can include `workers`, `use_multiprocessing`, `max_queue_size`. Do not pass these arguments to `fit()`, as they will be ignored.\n",
            "  self._warn_if_super_not_called()\n"
          ]
        },
        {
          "metadata": {
            "tags": null
          },
          "name": "stdout",
          "output_type": "stream",
          "text": [
            "\u001b[1m738/739\u001b[0m \u001b[32m━━━━━━━━━━━━━━━━━━━\u001b[0m\u001b[37m━\u001b[0m \u001b[1m2s\u001b[0m 2s/step - accuracy: 0.5343 - loss: 0.6912 "
          ]
        },
        {
          "metadata": {
            "tags": null
          },
          "name": "stderr",
          "output_type": "stream",
          "text": [
            "/usr/local/lib/python3.10/dist-packages/keras/src/trainers/data_adapters/py_dataset_adapter.py:121: UserWarning: Your `PyDataset` class should call `super().__init__(**kwargs)` in its constructor. `**kwargs` can include `workers`, `use_multiprocessing`, `max_queue_size`. Do not pass these arguments to `fit()`, as they will be ignored.\n",
            "  self._warn_if_super_not_called()\n"
          ]
        },
        {
          "output_type": "stream",
          "name": "stdout",
          "text": [
            "\u001b[1m739/739\u001b[0m \u001b[32m━━━━━━━━━━━━━━━━━━━━\u001b[0m\u001b[37m\u001b[0m \u001b[1m2333s\u001b[0m 3s/step - accuracy: 0.5344 - loss: 0.6912 - val_accuracy: 0.9696 - val_loss: 0.5582\n",
            "Epoch 2/2\n",
            "\u001b[1m739/739\u001b[0m \u001b[32m━━━━━━━━━━━━━━━━━━━━\u001b[0m\u001b[37m\u001b[0m \u001b[1m2352s\u001b[0m 3s/step - accuracy: 0.6804 - loss: 0.6843 - val_accuracy: 0.5343 - val_loss: 0.7002\n"
          ]
        }
      ]
    },
    {
      "cell_type": "code",
      "source": [
        "# Limitar o número de batches para avaliar\n",
        "max_batches = 100  # Ajuste conforme necessário\n",
        "y_pred_prob = []\n",
        "y_true = []\n",
        "\n",
        "for i, (X_batch, y_batch) in enumerate(val_generator):\n",
        "    if i >= max_batches:\n",
        "        break\n",
        "    y_pred_prob_batch = model.predict_on_batch(X_batch)\n",
        "    y_pred_prob.extend(y_pred_prob_batch.flatten())\n",
        "    y_true.extend(y_batch)"
      ],
      "metadata": {
        "id": "-qxNCBNdw933"
      },
      "execution_count": 16,
      "outputs": []
    },
    {
      "cell_type": "markdown",
      "source": [
        "# 12. Representação visual"
      ],
      "metadata": {
        "id": "pV_iDSu9q1mx"
      }
    },
    {
      "cell_type": "code",
      "source": [
        "plt.figure(figsize=(12,4))\n",
        "plt.subplot(1,2,1)\n",
        "plt.plot(history.history['loss'], label='Treinamento')\n",
        "plt.plot(history.history['val_loss'], label='Validação')\n",
        "plt.title('Perda Durante o Treinamento')\n",
        "plt.xlabel('Época')\n",
        "plt.ylabel('Perda')\n",
        "plt.legend()\n",
        "\n",
        "plt.subplot(1,2,2)\n",
        "plt.plot(history.history['accuracy'], label='Treinamento')\n",
        "plt.plot(history.history['val_accuracy'], label='Validação')\n",
        "plt.title('Acurácia Durante o Treinamento')\n",
        "plt.xlabel('Época')\n",
        "plt.ylabel('Acurácia')\n",
        "plt.legend()\n",
        "\n",
        "plt.show()"
      ],
      "metadata": {
        "colab": {
          "base_uri": "https://localhost:8080/",
          "height": 412
        },
        "id": "XbENXQPW4aRu",
        "outputId": "16008a5f-a7a6-427a-c8ba-b6211447ec31"
      },
      "execution_count": 18,
      "outputs": [
        {
          "output_type": "display_data",
          "data": {
            "text/plain": [
              "<Figure size 1200x400 with 2 Axes>"
            ],
            "image/png": "[encoded data removed]"
          },
          "metadata": {}
        }
      ]
    },
    {
      "cell_type": "markdown",
      "source": [
        "O modelo claramente está sofrendo overfitting, algo que talvez pudesse ter sido evitado se não tivéssemos removido grande parte do DataFrame"
      ],
      "metadata": {
        "id": "RnbjT-L7rR9X"
      }
    },
    {
      "cell_type": "code",
      "source": [],
      "metadata": {
        "id": "lugOHaRIBipa"
      },
      "execution_count": null,
      "outputs": []
    }
  ]
}